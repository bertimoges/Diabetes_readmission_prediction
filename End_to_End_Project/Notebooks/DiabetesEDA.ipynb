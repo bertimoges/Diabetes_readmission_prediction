{
 "cells": [
  {
   "cell_type": "code",
   "execution_count": 1,
   "id": "d64df90d",
   "metadata": {},
   "outputs": [],
   "source": [
    "import pandas as pd\n",
    "import matplotlib.pyplot as plt\n",
    "import seaborn as sns\n",
    "import numpy as np\n",
    "import os\n",
    "import warnings\n",
    "warnings.simplefilter(action='ignore', category=FutureWarning)\n",
    "import missingno as msno\n",
    "from library.sb_utils import save_file\n",
    "\n",
    "pd.set_option('display.max_columns', None)\n",
    "pd.set_option('display.max_rows', None)"
   ]
  },
  {
   "cell_type": "code",
   "execution_count": 203,
   "id": "f840a958",
   "metadata": {},
   "outputs": [],
   "source": [
    "DM_data = pd.read_csv('../raw_data/diabetic_data.csv')"
   ]
  },
  {
   "cell_type": "code",
   "execution_count": 204,
   "id": "447b814b",
   "metadata": {},
   "outputs": [
    {
     "data": {
      "text/plain": [
       "(101766, 50)"
      ]
     },
     "execution_count": 204,
     "metadata": {},
     "output_type": "execute_result"
    }
   ],
   "source": [
    "#DM_data.info()\n",
    "DM_data.shape"
   ]
  },
  {
   "cell_type": "code",
   "execution_count": 205,
   "id": "ccab8df4",
   "metadata": {
    "scrolled": true
   },
   "outputs": [],
   "source": [
    "#DM_data.isnull().sum()"
   ]
  },
  {
   "cell_type": "code",
   "execution_count": 206,
   "id": "4daeeafc",
   "metadata": {},
   "outputs": [],
   "source": [
    "#checking data types, we see age is \"object\" instead of int or float. But, our source data has age in rangeof numbers\n",
    "#instead of single values. However, we need to replace the '[]', '()' from the values"
   ]
  },
  {
   "cell_type": "code",
   "execution_count": 207,
   "id": "4c76e332",
   "metadata": {},
   "outputs": [],
   "source": [
    "DM_data['age'] = DM_data['age'].str.replace('[','').str.replace(')','')"
   ]
  },
  {
   "cell_type": "code",
   "execution_count": 208,
   "id": "6d6163de",
   "metadata": {},
   "outputs": [
    {
     "data": {
      "text/html": [
       "<div>\n",
       "<style scoped>\n",
       "    .dataframe tbody tr th:only-of-type {\n",
       "        vertical-align: middle;\n",
       "    }\n",
       "\n",
       "    .dataframe tbody tr th {\n",
       "        vertical-align: top;\n",
       "    }\n",
       "\n",
       "    .dataframe thead th {\n",
       "        text-align: right;\n",
       "    }\n",
       "</style>\n",
       "<table border=\"1\" class=\"dataframe\">\n",
       "  <thead>\n",
       "    <tr style=\"text-align: right;\">\n",
       "      <th></th>\n",
       "      <th>encounter_id</th>\n",
       "      <th>patient_nbr</th>\n",
       "      <th>race</th>\n",
       "      <th>gender</th>\n",
       "      <th>age</th>\n",
       "      <th>weight</th>\n",
       "      <th>admission_type_id</th>\n",
       "      <th>discharge_disposition_id</th>\n",
       "      <th>admission_source_id</th>\n",
       "      <th>time_in_hospital</th>\n",
       "      <th>payer_code</th>\n",
       "      <th>medical_specialty</th>\n",
       "      <th>num_lab_procedures</th>\n",
       "      <th>num_procedures</th>\n",
       "      <th>num_medications</th>\n",
       "      <th>number_outpatient</th>\n",
       "      <th>number_emergency</th>\n",
       "      <th>number_inpatient</th>\n",
       "      <th>diag_1</th>\n",
       "      <th>diag_2</th>\n",
       "      <th>diag_3</th>\n",
       "      <th>number_diagnoses</th>\n",
       "      <th>max_glu_serum</th>\n",
       "      <th>A1Cresult</th>\n",
       "      <th>metformin</th>\n",
       "      <th>repaglinide</th>\n",
       "      <th>nateglinide</th>\n",
       "      <th>chlorpropamide</th>\n",
       "      <th>glimepiride</th>\n",
       "      <th>acetohexamide</th>\n",
       "      <th>glipizide</th>\n",
       "      <th>glyburide</th>\n",
       "      <th>tolbutamide</th>\n",
       "      <th>pioglitazone</th>\n",
       "      <th>rosiglitazone</th>\n",
       "      <th>acarbose</th>\n",
       "      <th>miglitol</th>\n",
       "      <th>troglitazone</th>\n",
       "      <th>tolazamide</th>\n",
       "      <th>examide</th>\n",
       "      <th>citoglipton</th>\n",
       "      <th>insulin</th>\n",
       "      <th>glyburide-metformin</th>\n",
       "      <th>glipizide-metformin</th>\n",
       "      <th>glimepiride-pioglitazone</th>\n",
       "      <th>metformin-rosiglitazone</th>\n",
       "      <th>metformin-pioglitazone</th>\n",
       "      <th>change</th>\n",
       "      <th>diabetesMed</th>\n",
       "      <th>readmitted</th>\n",
       "    </tr>\n",
       "  </thead>\n",
       "  <tbody>\n",
       "    <tr>\n",
       "      <th>0</th>\n",
       "      <td>2278392</td>\n",
       "      <td>8222157</td>\n",
       "      <td>Caucasian</td>\n",
       "      <td>Female</td>\n",
       "      <td>0-10</td>\n",
       "      <td>?</td>\n",
       "      <td>6</td>\n",
       "      <td>25</td>\n",
       "      <td>1</td>\n",
       "      <td>1</td>\n",
       "      <td>?</td>\n",
       "      <td>Pediatrics-Endocrinology</td>\n",
       "      <td>41</td>\n",
       "      <td>0</td>\n",
       "      <td>1</td>\n",
       "      <td>0</td>\n",
       "      <td>0</td>\n",
       "      <td>0</td>\n",
       "      <td>250.83</td>\n",
       "      <td>?</td>\n",
       "      <td>?</td>\n",
       "      <td>1</td>\n",
       "      <td>None</td>\n",
       "      <td>None</td>\n",
       "      <td>No</td>\n",
       "      <td>No</td>\n",
       "      <td>No</td>\n",
       "      <td>No</td>\n",
       "      <td>No</td>\n",
       "      <td>No</td>\n",
       "      <td>No</td>\n",
       "      <td>No</td>\n",
       "      <td>No</td>\n",
       "      <td>No</td>\n",
       "      <td>No</td>\n",
       "      <td>No</td>\n",
       "      <td>No</td>\n",
       "      <td>No</td>\n",
       "      <td>No</td>\n",
       "      <td>No</td>\n",
       "      <td>No</td>\n",
       "      <td>No</td>\n",
       "      <td>No</td>\n",
       "      <td>No</td>\n",
       "      <td>No</td>\n",
       "      <td>No</td>\n",
       "      <td>No</td>\n",
       "      <td>No</td>\n",
       "      <td>No</td>\n",
       "      <td>NO</td>\n",
       "    </tr>\n",
       "    <tr>\n",
       "      <th>1</th>\n",
       "      <td>149190</td>\n",
       "      <td>55629189</td>\n",
       "      <td>Caucasian</td>\n",
       "      <td>Female</td>\n",
       "      <td>10-20</td>\n",
       "      <td>?</td>\n",
       "      <td>1</td>\n",
       "      <td>1</td>\n",
       "      <td>7</td>\n",
       "      <td>3</td>\n",
       "      <td>?</td>\n",
       "      <td>?</td>\n",
       "      <td>59</td>\n",
       "      <td>0</td>\n",
       "      <td>18</td>\n",
       "      <td>0</td>\n",
       "      <td>0</td>\n",
       "      <td>0</td>\n",
       "      <td>276</td>\n",
       "      <td>250.01</td>\n",
       "      <td>255</td>\n",
       "      <td>9</td>\n",
       "      <td>None</td>\n",
       "      <td>None</td>\n",
       "      <td>No</td>\n",
       "      <td>No</td>\n",
       "      <td>No</td>\n",
       "      <td>No</td>\n",
       "      <td>No</td>\n",
       "      <td>No</td>\n",
       "      <td>No</td>\n",
       "      <td>No</td>\n",
       "      <td>No</td>\n",
       "      <td>No</td>\n",
       "      <td>No</td>\n",
       "      <td>No</td>\n",
       "      <td>No</td>\n",
       "      <td>No</td>\n",
       "      <td>No</td>\n",
       "      <td>No</td>\n",
       "      <td>No</td>\n",
       "      <td>Up</td>\n",
       "      <td>No</td>\n",
       "      <td>No</td>\n",
       "      <td>No</td>\n",
       "      <td>No</td>\n",
       "      <td>No</td>\n",
       "      <td>Ch</td>\n",
       "      <td>Yes</td>\n",
       "      <td>&gt;30</td>\n",
       "    </tr>\n",
       "  </tbody>\n",
       "</table>\n",
       "</div>"
      ],
      "text/plain": [
       "   encounter_id  patient_nbr       race  gender    age weight  \\\n",
       "0       2278392      8222157  Caucasian  Female   0-10      ?   \n",
       "1        149190     55629189  Caucasian  Female  10-20      ?   \n",
       "\n",
       "   admission_type_id  discharge_disposition_id  admission_source_id  \\\n",
       "0                  6                        25                    1   \n",
       "1                  1                         1                    7   \n",
       "\n",
       "   time_in_hospital payer_code         medical_specialty  num_lab_procedures  \\\n",
       "0                 1          ?  Pediatrics-Endocrinology                  41   \n",
       "1                 3          ?                         ?                  59   \n",
       "\n",
       "   num_procedures  num_medications  number_outpatient  number_emergency  \\\n",
       "0               0                1                  0                 0   \n",
       "1               0               18                  0                 0   \n",
       "\n",
       "   number_inpatient  diag_1  diag_2 diag_3  number_diagnoses max_glu_serum  \\\n",
       "0                 0  250.83       ?      ?                 1          None   \n",
       "1                 0     276  250.01    255                 9          None   \n",
       "\n",
       "  A1Cresult metformin repaglinide nateglinide chlorpropamide glimepiride  \\\n",
       "0      None        No          No          No             No          No   \n",
       "1      None        No          No          No             No          No   \n",
       "\n",
       "  acetohexamide glipizide glyburide tolbutamide pioglitazone rosiglitazone  \\\n",
       "0            No        No        No          No           No            No   \n",
       "1            No        No        No          No           No            No   \n",
       "\n",
       "  acarbose miglitol troglitazone tolazamide examide citoglipton insulin  \\\n",
       "0       No       No           No         No      No          No      No   \n",
       "1       No       No           No         No      No          No      Up   \n",
       "\n",
       "  glyburide-metformin glipizide-metformin glimepiride-pioglitazone  \\\n",
       "0                  No                  No                       No   \n",
       "1                  No                  No                       No   \n",
       "\n",
       "  metformin-rosiglitazone metformin-pioglitazone change diabetesMed readmitted  \n",
       "0                      No                     No     No          No         NO  \n",
       "1                      No                     No     Ch         Yes        >30  "
      ]
     },
     "execution_count": 208,
     "metadata": {},
     "output_type": "execute_result"
    }
   ],
   "source": [
    "DM_data.head(2)"
   ]
  },
  {
   "cell_type": "code",
   "execution_count": 209,
   "id": "89b55288",
   "metadata": {},
   "outputs": [
    {
     "data": {
      "text/plain": [
       "?            98569\n",
       "[75-100)      1336\n",
       "[50-75)        897\n",
       "[100-125)      625\n",
       "[125-150)      145\n",
       "[25-50)         97\n",
       "[0-25)          48\n",
       "[150-175)       35\n",
       "[175-200)       11\n",
       ">200             3\n",
       "Name: weight, dtype: int64"
      ]
     },
     "execution_count": 209,
     "metadata": {},
     "output_type": "execute_result"
    }
   ],
   "source": [
    "DM_data['weight'].value_counts()"
   ]
  },
  {
   "cell_type": "code",
   "execution_count": 210,
   "id": "98d337c4",
   "metadata": {},
   "outputs": [],
   "source": [
    "#There is no missing value in our data but upon observing the weight column, 97% of its values are '?', \n",
    "#so I will drop weight column. But before that, I will try to find if other columns have '?' as well."
   ]
  },
  {
   "cell_type": "code",
   "execution_count": 211,
   "id": "2684913c",
   "metadata": {},
   "outputs": [
    {
     "name": "stdout",
     "output_type": "stream",
     "text": [
      "['race', 'weight', 'payer_code', 'medical_specialty', 'diag_1', 'diag_2', 'diag_3']\n"
     ]
    }
   ],
   "source": [
    "columns_with_questionmark = []\n",
    "for col in DM_data.columns: \n",
    "    if '?' in DM_data[col].values:\n",
    "        columns_with_questionmark.append(col)    \n",
    "print(columns_with_questionmark)    "
   ]
  },
  {
   "cell_type": "code",
   "execution_count": 212,
   "id": "c6b874ea",
   "metadata": {},
   "outputs": [
    {
     "data": {
      "text/html": [
       "<div>\n",
       "<style scoped>\n",
       "    .dataframe tbody tr th:only-of-type {\n",
       "        vertical-align: middle;\n",
       "    }\n",
       "\n",
       "    .dataframe tbody tr th {\n",
       "        vertical-align: top;\n",
       "    }\n",
       "\n",
       "    .dataframe thead th {\n",
       "        text-align: right;\n",
       "    }\n",
       "</style>\n",
       "<table border=\"1\" class=\"dataframe\">\n",
       "  <thead>\n",
       "    <tr style=\"text-align: right;\">\n",
       "      <th></th>\n",
       "      <th>column_name</th>\n",
       "      <th>% of \" ?\"</th>\n",
       "    </tr>\n",
       "  </thead>\n",
       "  <tbody>\n",
       "    <tr>\n",
       "      <th>1</th>\n",
       "      <td>weight</td>\n",
       "      <td>96.858479</td>\n",
       "    </tr>\n",
       "    <tr>\n",
       "      <th>3</th>\n",
       "      <td>medical_specialty</td>\n",
       "      <td>49.082208</td>\n",
       "    </tr>\n",
       "    <tr>\n",
       "      <th>2</th>\n",
       "      <td>payer_code</td>\n",
       "      <td>39.557416</td>\n",
       "    </tr>\n",
       "    <tr>\n",
       "      <th>0</th>\n",
       "      <td>race</td>\n",
       "      <td>2.233555</td>\n",
       "    </tr>\n",
       "    <tr>\n",
       "      <th>6</th>\n",
       "      <td>diag_3</td>\n",
       "      <td>1.398306</td>\n",
       "    </tr>\n",
       "    <tr>\n",
       "      <th>5</th>\n",
       "      <td>diag_2</td>\n",
       "      <td>0.351787</td>\n",
       "    </tr>\n",
       "    <tr>\n",
       "      <th>4</th>\n",
       "      <td>diag_1</td>\n",
       "      <td>0.020636</td>\n",
       "    </tr>\n",
       "  </tbody>\n",
       "</table>\n",
       "</div>"
      ],
      "text/plain": [
       "         column_name  % of \" ?\"\n",
       "1             weight  96.858479\n",
       "3  medical_specialty  49.082208\n",
       "2         payer_code  39.557416\n",
       "0               race   2.233555\n",
       "6             diag_3   1.398306\n",
       "5             diag_2   0.351787\n",
       "4             diag_1   0.020636"
      ]
     },
     "execution_count": 212,
     "metadata": {},
     "output_type": "execute_result"
    }
   ],
   "source": [
    "#calculating percentage of '?' values in columns where it is found.\n",
    "col_names = ['race', 'weight', 'payer_code', 'medical_specialty', 'diag_1', 'diag_2', 'diag_3']\n",
    "cols = {}\n",
    "for col in col_names:\n",
    "    length = len(DM_data[DM_data[col] == '?'])\n",
    "    per = length / DM_data.shape[0] * 100\n",
    "    cols[col] = per\n",
    "#print(cols)  \n",
    "df = pd.DataFrame(cols.items(), columns = ['column_name', '% of \\\" ?\\\"'])\n",
    "df.sort_values(by = '% of \\\" ?\\\"', ascending=False)"
   ]
  },
  {
   "cell_type": "code",
   "execution_count": 213,
   "id": "caf20477",
   "metadata": {},
   "outputs": [],
   "source": [
    "#Here we see \"payer_code\", \"medical_specialty\", and  \"weight\" have more than 39% of their values as \"?\".\n",
    "#So I drop those columns"
   ]
  },
  {
   "cell_type": "code",
   "execution_count": 214,
   "id": "29b3808a",
   "metadata": {},
   "outputs": [],
   "source": [
    "DM_data.drop(['payer_code','medical_specialty', 'weight'], axis =1,inplace=True)"
   ]
  },
  {
   "cell_type": "code",
   "execution_count": 215,
   "id": "eabbd0c6",
   "metadata": {},
   "outputs": [],
   "source": [
    "#DM_data.shape"
   ]
  },
  {
   "cell_type": "code",
   "execution_count": 216,
   "id": "4e916bc0",
   "metadata": {},
   "outputs": [],
   "source": [
    "#Next, I replaced the \"?\", in the rest of data with np.nan so we can better visualize missing values and correlation among \n",
    "#other missing values using missingno package"
   ]
  },
  {
   "cell_type": "code",
   "execution_count": 217,
   "id": "6bb818a0",
   "metadata": {},
   "outputs": [],
   "source": [
    "DM_data = DM_data.replace('?', np.nan)\n",
    "#DM_data.head()"
   ]
  },
  {
   "cell_type": "code",
   "execution_count": 218,
   "id": "7f37a72d",
   "metadata": {},
   "outputs": [],
   "source": [
    "#msno.bar(DM_data)"
   ]
  },
  {
   "cell_type": "code",
   "execution_count": 219,
   "id": "752dc76b",
   "metadata": {},
   "outputs": [],
   "source": [
    "#msno.matrix(DM_data)"
   ]
  },
  {
   "cell_type": "code",
   "execution_count": 220,
   "id": "6f1b08a1",
   "metadata": {
    "scrolled": true
   },
   "outputs": [],
   "source": [
    "#msno.heatmap(DM_data)"
   ]
  },
  {
   "cell_type": "code",
   "execution_count": 221,
   "id": "64dda45d",
   "metadata": {},
   "outputs": [],
   "source": [
    "#The missing values do not seem to have strong correlations, though diag_2 and 3 seem to have slight corr."
   ]
  },
  {
   "cell_type": "code",
   "execution_count": 222,
   "id": "5607fc13",
   "metadata": {
    "scrolled": false
   },
   "outputs": [],
   "source": [
    "#msno.dendrogram(DM_data)"
   ]
  },
  {
   "cell_type": "code",
   "execution_count": 223,
   "id": "a685027b",
   "metadata": {},
   "outputs": [],
   "source": [
    "#From the missing data values, we see that diag_1, 2 and 3 and \"race\" have missing values. These missing values seem \n",
    "#to follow missing at completely random pattern (MCAR), as each do not seem to be correlated with each other and there are \n",
    "#few of them.I will drop them."
   ]
  },
  {
   "cell_type": "code",
   "execution_count": 224,
   "id": "68397d53",
   "metadata": {},
   "outputs": [
    {
     "data": {
      "text/html": [
       "<div>\n",
       "<style scoped>\n",
       "    .dataframe tbody tr th:only-of-type {\n",
       "        vertical-align: middle;\n",
       "    }\n",
       "\n",
       "    .dataframe tbody tr th {\n",
       "        vertical-align: top;\n",
       "    }\n",
       "\n",
       "    .dataframe thead th {\n",
       "        text-align: right;\n",
       "    }\n",
       "</style>\n",
       "<table border=\"1\" class=\"dataframe\">\n",
       "  <thead>\n",
       "    <tr style=\"text-align: right;\">\n",
       "      <th></th>\n",
       "      <th>% of missing</th>\n",
       "    </tr>\n",
       "  </thead>\n",
       "  <tbody>\n",
       "    <tr>\n",
       "      <th>race</th>\n",
       "      <td>2.233555</td>\n",
       "    </tr>\n",
       "    <tr>\n",
       "      <th>diag_3</th>\n",
       "      <td>1.398306</td>\n",
       "    </tr>\n",
       "    <tr>\n",
       "      <th>diag_2</th>\n",
       "      <td>0.351787</td>\n",
       "    </tr>\n",
       "    <tr>\n",
       "      <th>diag_1</th>\n",
       "      <td>0.020636</td>\n",
       "    </tr>\n",
       "  </tbody>\n",
       "</table>\n",
       "</div>"
      ],
      "text/plain": [
       "        % of missing\n",
       "race        2.233555\n",
       "diag_3      1.398306\n",
       "diag_2      0.351787\n",
       "diag_1      0.020636"
      ]
     },
     "execution_count": 224,
     "metadata": {},
     "output_type": "execute_result"
    }
   ],
   "source": [
    "missing = DM_data[['race','diag_1','diag_2','diag_3']].isnull().sum()*100 /len(DM_data)\n",
    "missing_Df = pd.DataFrame({'% of missing': missing}).sort_values('% of missing', ascending=False)\n",
    "missing_Df"
   ]
  },
  {
   "cell_type": "code",
   "execution_count": 225,
   "id": "1f878cf8",
   "metadata": {},
   "outputs": [
    {
     "data": {
      "text/plain": [
       "(101766, 47)"
      ]
     },
     "execution_count": 225,
     "metadata": {},
     "output_type": "execute_result"
    }
   ],
   "source": [
    "DM_data.shape"
   ]
  },
  {
   "cell_type": "code",
   "execution_count": 226,
   "id": "8c16cf02",
   "metadata": {},
   "outputs": [],
   "source": [
    "DM = DM_data.dropna()"
   ]
  },
  {
   "cell_type": "code",
   "execution_count": 227,
   "id": "91d78878",
   "metadata": {},
   "outputs": [
    {
     "data": {
      "text/plain": [
       "(98053, 47)"
      ]
     },
     "execution_count": 227,
     "metadata": {},
     "output_type": "execute_result"
    }
   ],
   "source": [
    "DM.shape"
   ]
  },
  {
   "cell_type": "code",
   "execution_count": 228,
   "id": "cfba19e5",
   "metadata": {},
   "outputs": [],
   "source": [
    " #DM['A1Cresult'].value_counts().to_frame()"
   ]
  },
  {
   "cell_type": "code",
   "execution_count": 229,
   "id": "9a1b8962",
   "metadata": {},
   "outputs": [
    {
     "data": {
      "text/plain": [
       "No    1.0\n",
       "Name: examide, dtype: float64"
      ]
     },
     "execution_count": 229,
     "metadata": {},
     "output_type": "execute_result"
    }
   ],
   "source": [
    "DM['examide'].value_counts(normalize=True).loc[lambda x: x >0.8] # in more than 80% cases, this drug was not given"
   ]
  },
  {
   "cell_type": "code",
   "execution_count": 230,
   "id": "f7cfedb2",
   "metadata": {},
   "outputs": [],
   "source": [
    "#Actually none of the patients were given examide."
   ]
  },
  {
   "cell_type": "code",
   "execution_count": 231,
   "id": "62ce2d20",
   "metadata": {},
   "outputs": [
    {
     "data": {
      "text/html": [
       "<div>\n",
       "<style scoped>\n",
       "    .dataframe tbody tr th:only-of-type {\n",
       "        vertical-align: middle;\n",
       "    }\n",
       "\n",
       "    .dataframe tbody tr th {\n",
       "        vertical-align: top;\n",
       "    }\n",
       "\n",
       "    .dataframe thead th {\n",
       "        text-align: right;\n",
       "    }\n",
       "</style>\n",
       "<table border=\"1\" class=\"dataframe\">\n",
       "  <thead>\n",
       "    <tr style=\"text-align: right;\">\n",
       "      <th></th>\n",
       "      <th>examide</th>\n",
       "    </tr>\n",
       "  </thead>\n",
       "  <tbody>\n",
       "    <tr>\n",
       "      <th>No</th>\n",
       "      <td>98053</td>\n",
       "    </tr>\n",
       "  </tbody>\n",
       "</table>\n",
       "</div>"
      ],
      "text/plain": [
       "    examide\n",
       "No    98053"
      ]
     },
     "execution_count": 231,
     "metadata": {},
     "output_type": "execute_result"
    }
   ],
   "source": [
    "DM['examide'].value_counts().to_frame()"
   ]
  },
  {
   "cell_type": "code",
   "execution_count": 232,
   "id": "d5be3d69",
   "metadata": {},
   "outputs": [
    {
     "data": {
      "text/plain": [
       "No        0.468553\n",
       "Steady    0.299511\n",
       "Down      0.120782\n",
       "Up        0.111154\n",
       "Name: insulin, dtype: float64"
      ]
     },
     "execution_count": 232,
     "metadata": {},
     "output_type": "execute_result"
    }
   ],
   "source": [
    "DM['insulin'].value_counts(normalize=True)"
   ]
  },
  {
   "cell_type": "code",
   "execution_count": 233,
   "id": "c2305679",
   "metadata": {},
   "outputs": [],
   "source": [
    "# meds_cols = DM.columns[21:44]  #selecting the features of the medications/drugs\n",
    "# meds_cols"
   ]
  },
  {
   "cell_type": "code",
   "execution_count": 234,
   "id": "7c977bc8",
   "metadata": {},
   "outputs": [],
   "source": [
    "# drugs_not_given_inmorethan_80 = []\n",
    "# for col in meds_cols:\n",
    "#     drugs_not_given_inmorethan_80.append(DM[col].value_counts(normalize=True).loc[lambda x: x > 0.8].to_frame())\n",
    "# #drugs_not_given_inmorethan_80"
   ]
  },
  {
   "cell_type": "code",
   "execution_count": 235,
   "id": "a308e47e",
   "metadata": {},
   "outputs": [],
   "source": [
    "#Drugs such as metformin-pioglitazone,examide and citoglipton were not given to any patient. In fact, except metformin,  \n",
    "#which was given,kept steady or changed dosage to ~20% of patients, and insulin ( to ~53%), most drugs were not given to \n",
    "#99% of patients. These features' variance is low to help us in our work. However, I will keep those that were given to at \n",
    "#least 87% of patients and drop the rest. We might get something interesting patterns when we visualize these against our \n",
    "#target value. "
   ]
  },
  {
   "cell_type": "code",
   "execution_count": 236,
   "id": "3fec755a",
   "metadata": {},
   "outputs": [],
   "source": [
    "#Insulin was adminstered to about 53% of the patients. Now, let's find out if the rest of the patients that \n",
    "#did not get insulin (47%),received something or nothing while at the hospital."
   ]
  },
  {
   "cell_type": "code",
   "execution_count": 237,
   "id": "e4997e00",
   "metadata": {},
   "outputs": [],
   "source": [
    "# DM_drugs = DM[['metformin', 'repaglinide', 'nateglinide', 'chlorpropamide',\n",
    "#        'glimepiride', 'acetohexamide', 'glipizide', 'glyburide', 'tolbutamide',\n",
    "#        'pioglitazone', 'rosiglitazone', 'acarbose', 'miglitol', 'troglitazone',\n",
    "#        'tolazamide', 'examide', 'citoglipton', 'insulin',\n",
    "#        'glyburide-metformin', 'glipizide-metformin',\n",
    "#        'glimepiride-pioglitazone', 'metformin-rosiglitazone',\n",
    "#        'metformin-pioglitazone']]\n",
    "# DM_drugs.head()"
   ]
  },
  {
   "cell_type": "code",
   "execution_count": 238,
   "id": "46b8b873",
   "metadata": {},
   "outputs": [],
   "source": [
    "# Du = DM_drugs.replace(['No', 'Up'], [0,1])\n",
    "# Dd = Du.replace(['No', 'Down'], [0,1])\n",
    "# Ds = Dd.replace(['No', 'Steady'], [0,1])\n",
    "# Ds.head()"
   ]
  },
  {
   "cell_type": "code",
   "execution_count": 239,
   "id": "27f7c1af",
   "metadata": {},
   "outputs": [],
   "source": [
    "# Ds['sum'] = Ds.sum(axis=1)\n",
    "# Ds.head()"
   ]
  },
  {
   "cell_type": "code",
   "execution_count": 240,
   "id": "bb7b2fdc",
   "metadata": {},
   "outputs": [],
   "source": [
    "# Ds['sum'].value_counts()"
   ]
  },
  {
   "cell_type": "code",
   "execution_count": 241,
   "id": "3522dbc2",
   "metadata": {},
   "outputs": [],
   "source": [
    "#Here we can see 22,702 patients did not receive any drug ( assuming there all are unique for now)"
   ]
  },
  {
   "cell_type": "code",
   "execution_count": 242,
   "id": "9d150045",
   "metadata": {},
   "outputs": [],
   "source": [
    "# DM_ones = Ds[Ds['sum'] == 1]\n",
    "# DM_ones.head()\n",
    "#DM_repeat_patients[['patient_nbr','race']].shape"
   ]
  },
  {
   "cell_type": "code",
   "execution_count": 243,
   "id": "4c11b76e",
   "metadata": {},
   "outputs": [],
   "source": [
    "# DM_ones.sum()"
   ]
  },
  {
   "cell_type": "code",
   "execution_count": 244,
   "id": "6b229d0f",
   "metadata": {},
   "outputs": [],
   "source": [
    "#Earlier I found metformin-rosiglitazone, citoglipton, examide with normalized value_counts value of 1 for \"No\" which meant\n",
    "#those drugs were not adminstered at all. This is consistent with the normalized value_count result. However, when summing \n",
    "#along columns and rows of our DM_ones df,glimepiride-pioglitazone, metformin-pioglitazone,troglitazone,acetohexamide came out\n",
    "#to be 0. Let's see unique value_counts of these four."
   ]
  },
  {
   "cell_type": "code",
   "execution_count": 245,
   "id": "bd89d158",
   "metadata": {},
   "outputs": [],
   "source": [
    "# print(DM_drugs['glimepiride-pioglitazone'].value_counts().to_frame())\n",
    "# print(DM_drugs['metformin-pioglitazone'].value_counts().to_frame())\n",
    "# print(DM_drugs['troglitazone'].value_counts().to_frame())\n",
    "# print(DM_drugs['acetohexamide'].value_counts().to_frame())"
   ]
  },
  {
   "cell_type": "code",
   "execution_count": 246,
   "id": "d8c457cf",
   "metadata": {
    "scrolled": true
   },
   "outputs": [],
   "source": [
    "#We can drop the drugs that were never adminstered. Moreover, I will experiment later on if dropping the drugs that were kept \n",
    "#steady only once makes difference in my model."
   ]
  },
  {
   "cell_type": "code",
   "execution_count": 247,
   "id": "df3079ee",
   "metadata": {},
   "outputs": [],
   "source": [
    "# acet = DM_drugs[DM_drugs['acetohexamide'] == 'Steady']  #eg, acetohexamide was kept steady along with insulin.\n",
    "# acet"
   ]
  },
  {
   "cell_type": "code",
   "execution_count": 248,
   "id": "423a1e38",
   "metadata": {},
   "outputs": [
    {
     "name": "stderr",
     "output_type": "stream",
     "text": [
      "C:\\Users\\14322\\anaconda3\\lib\\site-packages\\pandas\\core\\frame.py:4906: SettingWithCopyWarning: \n",
      "A value is trying to be set on a copy of a slice from a DataFrame\n",
      "\n",
      "See the caveats in the documentation: https://pandas.pydata.org/pandas-docs/stable/user_guide/indexing.html#returning-a-view-versus-a-copy\n",
      "  return super().drop(\n"
     ]
    }
   ],
   "source": [
    "DM.drop(['metformin-rosiglitazone','citoglipton', 'examide'], axis =1,inplace=True)\n",
    "\n",
    "#DM_repeat_patients1 = DM_repeat_patients.sort_values('patient_nbr').drop_duplicates('patient_nbr', keep='last')"
   ]
  },
  {
   "cell_type": "code",
   "execution_count": 249,
   "id": "be0f20ea",
   "metadata": {},
   "outputs": [
    {
     "name": "stdout",
     "output_type": "stream",
     "text": [
      "<class 'pandas.core.frame.DataFrame'>\n",
      "Int64Index: 98053 entries, 1 to 101765\n",
      "Data columns (total 44 columns):\n",
      " #   Column                    Non-Null Count  Dtype \n",
      "---  ------                    --------------  ----- \n",
      " 0   encounter_id              98053 non-null  int64 \n",
      " 1   patient_nbr               98053 non-null  int64 \n",
      " 2   race                      98053 non-null  object\n",
      " 3   gender                    98053 non-null  object\n",
      " 4   age                       98053 non-null  object\n",
      " 5   admission_type_id         98053 non-null  int64 \n",
      " 6   discharge_disposition_id  98053 non-null  int64 \n",
      " 7   admission_source_id       98053 non-null  int64 \n",
      " 8   time_in_hospital          98053 non-null  int64 \n",
      " 9   num_lab_procedures        98053 non-null  int64 \n",
      " 10  num_procedures            98053 non-null  int64 \n",
      " 11  num_medications           98053 non-null  int64 \n",
      " 12  number_outpatient         98053 non-null  int64 \n",
      " 13  number_emergency          98053 non-null  int64 \n",
      " 14  number_inpatient          98053 non-null  int64 \n",
      " 15  diag_1                    98053 non-null  object\n",
      " 16  diag_2                    98053 non-null  object\n",
      " 17  diag_3                    98053 non-null  object\n",
      " 18  number_diagnoses          98053 non-null  int64 \n",
      " 19  max_glu_serum             98053 non-null  object\n",
      " 20  A1Cresult                 98053 non-null  object\n",
      " 21  metformin                 98053 non-null  object\n",
      " 22  repaglinide               98053 non-null  object\n",
      " 23  nateglinide               98053 non-null  object\n",
      " 24  chlorpropamide            98053 non-null  object\n",
      " 25  glimepiride               98053 non-null  object\n",
      " 26  acetohexamide             98053 non-null  object\n",
      " 27  glipizide                 98053 non-null  object\n",
      " 28  glyburide                 98053 non-null  object\n",
      " 29  tolbutamide               98053 non-null  object\n",
      " 30  pioglitazone              98053 non-null  object\n",
      " 31  rosiglitazone             98053 non-null  object\n",
      " 32  acarbose                  98053 non-null  object\n",
      " 33  miglitol                  98053 non-null  object\n",
      " 34  troglitazone              98053 non-null  object\n",
      " 35  tolazamide                98053 non-null  object\n",
      " 36  insulin                   98053 non-null  object\n",
      " 37  glyburide-metformin       98053 non-null  object\n",
      " 38  glipizide-metformin       98053 non-null  object\n",
      " 39  glimepiride-pioglitazone  98053 non-null  object\n",
      " 40  metformin-pioglitazone    98053 non-null  object\n",
      " 41  change                    98053 non-null  object\n",
      " 42  diabetesMed               98053 non-null  object\n",
      " 43  readmitted                98053 non-null  object\n",
      "dtypes: int64(13), object(31)\n",
      "memory usage: 33.7+ MB\n"
     ]
    }
   ],
   "source": [
    "DM.shape\n",
    "DM.info()"
   ]
  },
  {
   "cell_type": "code",
   "execution_count": 250,
   "id": "f95d1ffd",
   "metadata": {},
   "outputs": [],
   "source": [
    "#The other two columns I want to investigate are max_glu_serum and A1Cresult as their values are dominated by \n",
    "# 'None',which means these measurements were not taken on the patients."
   ]
  },
  {
   "cell_type": "code",
   "execution_count": 251,
   "id": "72bc602c",
   "metadata": {},
   "outputs": [
    {
     "data": {
      "text/html": [
       "<div>\n",
       "<style scoped>\n",
       "    .dataframe tbody tr th:only-of-type {\n",
       "        vertical-align: middle;\n",
       "    }\n",
       "\n",
       "    .dataframe tbody tr th {\n",
       "        vertical-align: top;\n",
       "    }\n",
       "\n",
       "    .dataframe thead th {\n",
       "        text-align: right;\n",
       "    }\n",
       "</style>\n",
       "<table border=\"1\" class=\"dataframe\">\n",
       "  <thead>\n",
       "    <tr style=\"text-align: right;\">\n",
       "      <th></th>\n",
       "      <th>A1Cresult</th>\n",
       "    </tr>\n",
       "  </thead>\n",
       "  <tbody>\n",
       "    <tr>\n",
       "      <th>None</th>\n",
       "      <td>0.834855</td>\n",
       "    </tr>\n",
       "    <tr>\n",
       "      <th>&gt;8</th>\n",
       "      <td>0.077825</td>\n",
       "    </tr>\n",
       "    <tr>\n",
       "      <th>Norm</th>\n",
       "      <td>0.049504</td>\n",
       "    </tr>\n",
       "    <tr>\n",
       "      <th>&gt;7</th>\n",
       "      <td>0.037816</td>\n",
       "    </tr>\n",
       "  </tbody>\n",
       "</table>\n",
       "</div>"
      ],
      "text/plain": [
       "      A1Cresult\n",
       "None   0.834855\n",
       ">8     0.077825\n",
       "Norm   0.049504\n",
       ">7     0.037816"
      ]
     },
     "execution_count": 251,
     "metadata": {},
     "output_type": "execute_result"
    }
   ],
   "source": [
    "DM['A1Cresult'].value_counts(normalize=True).to_frame()"
   ]
  },
  {
   "cell_type": "code",
   "execution_count": 252,
   "id": "8747759b",
   "metadata": {},
   "outputs": [
    {
     "data": {
      "text/html": [
       "<div>\n",
       "<style scoped>\n",
       "    .dataframe tbody tr th:only-of-type {\n",
       "        vertical-align: middle;\n",
       "    }\n",
       "\n",
       "    .dataframe tbody tr th {\n",
       "        vertical-align: top;\n",
       "    }\n",
       "\n",
       "    .dataframe thead th {\n",
       "        text-align: right;\n",
       "    }\n",
       "</style>\n",
       "<table border=\"1\" class=\"dataframe\">\n",
       "  <thead>\n",
       "    <tr style=\"text-align: right;\">\n",
       "      <th></th>\n",
       "      <th>max_glu_serum</th>\n",
       "    </tr>\n",
       "  </thead>\n",
       "  <tbody>\n",
       "    <tr>\n",
       "      <th>None</th>\n",
       "      <td>0.946886</td>\n",
       "    </tr>\n",
       "    <tr>\n",
       "      <th>Norm</th>\n",
       "      <td>0.025823</td>\n",
       "    </tr>\n",
       "    <tr>\n",
       "      <th>&gt;200</th>\n",
       "      <td>0.014778</td>\n",
       "    </tr>\n",
       "    <tr>\n",
       "      <th>&gt;300</th>\n",
       "      <td>0.012514</td>\n",
       "    </tr>\n",
       "  </tbody>\n",
       "</table>\n",
       "</div>"
      ],
      "text/plain": [
       "      max_glu_serum\n",
       "None       0.946886\n",
       "Norm       0.025823\n",
       ">200       0.014778\n",
       ">300       0.012514"
      ]
     },
     "execution_count": 252,
     "metadata": {},
     "output_type": "execute_result"
    }
   ],
   "source": [
    "DM['max_glu_serum'].value_counts(normalize=True).to_frame()"
   ]
  },
  {
   "cell_type": "code",
   "execution_count": 253,
   "id": "f5352bd6",
   "metadata": {},
   "outputs": [],
   "source": [
    "#DM['number_inpatient'].value_counts().to_frame()"
   ]
  },
  {
   "cell_type": "code",
   "execution_count": 254,
   "id": "da4a4919",
   "metadata": {},
   "outputs": [
    {
     "data": {
      "text/plain": [
       "98053"
      ]
     },
     "execution_count": 254,
     "metadata": {},
     "output_type": "execute_result"
    }
   ],
   "source": [
    "DM['encounter_id'].nunique()"
   ]
  },
  {
   "cell_type": "code",
   "execution_count": 255,
   "id": "f909ff36",
   "metadata": {},
   "outputs": [
    {
     "data": {
      "text/plain": [
       "68630"
      ]
     },
     "execution_count": 255,
     "metadata": {},
     "output_type": "execute_result"
    }
   ],
   "source": [
    "DM['patient_nbr'].nunique()"
   ]
  },
  {
   "cell_type": "code",
   "execution_count": 256,
   "id": "736854dc",
   "metadata": {},
   "outputs": [],
   "source": [
    "#Here I see that encounter_id matches the number of rows we have in our df, however, patient_nbr does not and it is lower.\n",
    "#This indicates there were patients that had multiple hospital visits."
   ]
  },
  {
   "cell_type": "code",
   "execution_count": 257,
   "id": "f89272c0",
   "metadata": {
    "scrolled": true
   },
   "outputs": [
    {
     "data": {
      "text/html": [
       "<div>\n",
       "<style scoped>\n",
       "    .dataframe tbody tr th:only-of-type {\n",
       "        vertical-align: middle;\n",
       "    }\n",
       "\n",
       "    .dataframe tbody tr th {\n",
       "        vertical-align: top;\n",
       "    }\n",
       "\n",
       "    .dataframe thead th {\n",
       "        text-align: right;\n",
       "    }\n",
       "</style>\n",
       "<table border=\"1\" class=\"dataframe\">\n",
       "  <thead>\n",
       "    <tr style=\"text-align: right;\">\n",
       "      <th></th>\n",
       "      <th>encounter_id</th>\n",
       "      <th>patient_nbr</th>\n",
       "      <th>race</th>\n",
       "    </tr>\n",
       "  </thead>\n",
       "  <tbody>\n",
       "    <tr>\n",
       "      <th>1</th>\n",
       "      <td>149190</td>\n",
       "      <td>55629189</td>\n",
       "      <td>Caucasian</td>\n",
       "    </tr>\n",
       "    <tr>\n",
       "      <th>2</th>\n",
       "      <td>64410</td>\n",
       "      <td>86047875</td>\n",
       "      <td>AfricanAmerican</td>\n",
       "    </tr>\n",
       "    <tr>\n",
       "      <th>3</th>\n",
       "      <td>500364</td>\n",
       "      <td>82442376</td>\n",
       "      <td>Caucasian</td>\n",
       "    </tr>\n",
       "    <tr>\n",
       "      <th>4</th>\n",
       "      <td>16680</td>\n",
       "      <td>42519267</td>\n",
       "      <td>Caucasian</td>\n",
       "    </tr>\n",
       "    <tr>\n",
       "      <th>5</th>\n",
       "      <td>35754</td>\n",
       "      <td>82637451</td>\n",
       "      <td>Caucasian</td>\n",
       "    </tr>\n",
       "  </tbody>\n",
       "</table>\n",
       "</div>"
      ],
      "text/plain": [
       "   encounter_id  patient_nbr             race\n",
       "1        149190     55629189        Caucasian\n",
       "2         64410     86047875  AfricanAmerican\n",
       "3        500364     82442376        Caucasian\n",
       "4         16680     42519267        Caucasian\n",
       "5         35754     82637451        Caucasian"
      ]
     },
     "execution_count": 257,
     "metadata": {},
     "output_type": "execute_result"
    }
   ],
   "source": [
    "DM_epr = DM[['encounter_id','patient_nbr','race']]\n",
    "DM_epr.head()"
   ]
  },
  {
   "cell_type": "code",
   "execution_count": 258,
   "id": "620d172d",
   "metadata": {},
   "outputs": [
    {
     "data": {
      "text/html": [
       "<div>\n",
       "<style scoped>\n",
       "    .dataframe tbody tr th:only-of-type {\n",
       "        vertical-align: middle;\n",
       "    }\n",
       "\n",
       "    .dataframe tbody tr th {\n",
       "        vertical-align: top;\n",
       "    }\n",
       "\n",
       "    .dataframe thead th {\n",
       "        text-align: right;\n",
       "    }\n",
       "</style>\n",
       "<table border=\"1\" class=\"dataframe\">\n",
       "  <thead>\n",
       "    <tr style=\"text-align: right;\">\n",
       "      <th></th>\n",
       "      <th>encounter_id</th>\n",
       "      <th>race</th>\n",
       "    </tr>\n",
       "    <tr>\n",
       "      <th>patient_nbr</th>\n",
       "      <th></th>\n",
       "      <th></th>\n",
       "    </tr>\n",
       "  </thead>\n",
       "  <tbody>\n",
       "    <tr>\n",
       "      <th>135</th>\n",
       "      <td>2</td>\n",
       "      <td>2</td>\n",
       "    </tr>\n",
       "    <tr>\n",
       "      <th>378</th>\n",
       "      <td>1</td>\n",
       "      <td>1</td>\n",
       "    </tr>\n",
       "    <tr>\n",
       "      <th>729</th>\n",
       "      <td>1</td>\n",
       "      <td>1</td>\n",
       "    </tr>\n",
       "    <tr>\n",
       "      <th>774</th>\n",
       "      <td>1</td>\n",
       "      <td>1</td>\n",
       "    </tr>\n",
       "    <tr>\n",
       "      <th>927</th>\n",
       "      <td>1</td>\n",
       "      <td>1</td>\n",
       "    </tr>\n",
       "  </tbody>\n",
       "</table>\n",
       "</div>"
      ],
      "text/plain": [
       "             encounter_id  race\n",
       "patient_nbr                    \n",
       "135                     2     2\n",
       "378                     1     1\n",
       "729                     1     1\n",
       "774                     1     1\n",
       "927                     1     1"
      ]
     },
     "execution_count": 258,
     "metadata": {},
     "output_type": "execute_result"
    }
   ],
   "source": [
    "patient = DM_epr.groupby('patient_nbr').count()\n",
    "patient.head()"
   ]
  },
  {
   "cell_type": "code",
   "execution_count": 259,
   "id": "024367e1",
   "metadata": {},
   "outputs": [],
   "source": [
    "#Above, we can see that for instance, patient_nbr 135 has two encounter_ids, meaning couple of visits.I will filter out the \n",
    "#ones with multiple visits and analyze the data for cleaness."
   ]
  },
  {
   "cell_type": "code",
   "execution_count": 260,
   "id": "3af7fa4b",
   "metadata": {},
   "outputs": [
    {
     "data": {
      "text/html": [
       "<div>\n",
       "<style scoped>\n",
       "    .dataframe tbody tr th:only-of-type {\n",
       "        vertical-align: middle;\n",
       "    }\n",
       "\n",
       "    .dataframe tbody tr th {\n",
       "        vertical-align: top;\n",
       "    }\n",
       "\n",
       "    .dataframe thead th {\n",
       "        text-align: right;\n",
       "    }\n",
       "</style>\n",
       "<table border=\"1\" class=\"dataframe\">\n",
       "  <thead>\n",
       "    <tr style=\"text-align: right;\">\n",
       "      <th></th>\n",
       "      <th>encounter_id</th>\n",
       "      <th>patient_nbr</th>\n",
       "      <th>race</th>\n",
       "    </tr>\n",
       "  </thead>\n",
       "  <tbody>\n",
       "    <tr>\n",
       "      <th>918</th>\n",
       "      <td>7062552</td>\n",
       "      <td>328887</td>\n",
       "      <td>Caucasian</td>\n",
       "    </tr>\n",
       "    <tr>\n",
       "      <th>2027</th>\n",
       "      <td>13067634</td>\n",
       "      <td>328887</td>\n",
       "      <td>Caucasian</td>\n",
       "    </tr>\n",
       "    <tr>\n",
       "      <th>2755</th>\n",
       "      <td>17701176</td>\n",
       "      <td>328887</td>\n",
       "      <td>Caucasian</td>\n",
       "    </tr>\n",
       "    <tr>\n",
       "      <th>3642</th>\n",
       "      <td>22086186</td>\n",
       "      <td>328887</td>\n",
       "      <td>Caucasian</td>\n",
       "    </tr>\n",
       "    <tr>\n",
       "      <th>8463</th>\n",
       "      <td>38243124</td>\n",
       "      <td>328887</td>\n",
       "      <td>Caucasian</td>\n",
       "    </tr>\n",
       "    <tr>\n",
       "      <th>10340</th>\n",
       "      <td>43891170</td>\n",
       "      <td>328887</td>\n",
       "      <td>Caucasian</td>\n",
       "    </tr>\n",
       "    <tr>\n",
       "      <th>12331</th>\n",
       "      <td>50281458</td>\n",
       "      <td>328887</td>\n",
       "      <td>Caucasian</td>\n",
       "    </tr>\n",
       "    <tr>\n",
       "      <th>13741</th>\n",
       "      <td>54260868</td>\n",
       "      <td>328887</td>\n",
       "      <td>Caucasian</td>\n",
       "    </tr>\n",
       "  </tbody>\n",
       "</table>\n",
       "</div>"
      ],
      "text/plain": [
       "       encounter_id  patient_nbr       race\n",
       "918         7062552       328887  Caucasian\n",
       "2027       13067634       328887  Caucasian\n",
       "2755       17701176       328887  Caucasian\n",
       "3642       22086186       328887  Caucasian\n",
       "8463       38243124       328887  Caucasian\n",
       "10340      43891170       328887  Caucasian\n",
       "12331      50281458       328887  Caucasian\n",
       "13741      54260868       328887  Caucasian"
      ]
     },
     "execution_count": 260,
     "metadata": {},
     "output_type": "execute_result"
    }
   ],
   "source": [
    "DM_epr[DM_epr['patient_nbr'] == 328887] #eg, this patient with patient_nbr 103140 had 13 visits in this df."
   ]
  },
  {
   "cell_type": "code",
   "execution_count": 261,
   "id": "a8f08ced",
   "metadata": {},
   "outputs": [
    {
     "data": {
      "text/html": [
       "<div>\n",
       "<style scoped>\n",
       "    .dataframe tbody tr th:only-of-type {\n",
       "        vertical-align: middle;\n",
       "    }\n",
       "\n",
       "    .dataframe tbody tr th {\n",
       "        vertical-align: top;\n",
       "    }\n",
       "\n",
       "    .dataframe thead th {\n",
       "        text-align: right;\n",
       "    }\n",
       "</style>\n",
       "<table border=\"1\" class=\"dataframe\">\n",
       "  <thead>\n",
       "    <tr style=\"text-align: right;\">\n",
       "      <th></th>\n",
       "      <th>encounter_id</th>\n",
       "      <th>race</th>\n",
       "    </tr>\n",
       "    <tr>\n",
       "      <th>patient_nbr</th>\n",
       "      <th></th>\n",
       "      <th></th>\n",
       "    </tr>\n",
       "  </thead>\n",
       "  <tbody>\n",
       "    <tr>\n",
       "      <th>135</th>\n",
       "      <td>2</td>\n",
       "      <td>2</td>\n",
       "    </tr>\n",
       "    <tr>\n",
       "      <th>1152</th>\n",
       "      <td>3</td>\n",
       "      <td>3</td>\n",
       "    </tr>\n",
       "    <tr>\n",
       "      <th>1314</th>\n",
       "      <td>3</td>\n",
       "      <td>3</td>\n",
       "    </tr>\n",
       "    <tr>\n",
       "      <th>5220</th>\n",
       "      <td>4</td>\n",
       "      <td>4</td>\n",
       "    </tr>\n",
       "    <tr>\n",
       "      <th>5337</th>\n",
       "      <td>2</td>\n",
       "      <td>2</td>\n",
       "    </tr>\n",
       "  </tbody>\n",
       "</table>\n",
       "</div>"
      ],
      "text/plain": [
       "             encounter_id  race\n",
       "patient_nbr                    \n",
       "135                     2     2\n",
       "1152                    3     3\n",
       "1314                    3     3\n",
       "5220                    4     4\n",
       "5337                    2     2"
      ]
     },
     "execution_count": 261,
     "metadata": {},
     "output_type": "execute_result"
    }
   ],
   "source": [
    "repeat_patients = patient[patient['encounter_id'] != 1]\n",
    "repeat_patients.head()\n",
    "#DM_repeat_patients = DM_repeat_patients[DM_repeat_patients['patient_nbr'].isin(DM_repeat_patients['patient_nbr'].unique())]"
   ]
  },
  {
   "cell_type": "code",
   "execution_count": 262,
   "id": "8947711e",
   "metadata": {},
   "outputs": [
    {
     "data": {
      "text/plain": [
       "encounter_id    45703\n",
       "race            45703\n",
       "dtype: int64"
      ]
     },
     "execution_count": 262,
     "metadata": {},
     "output_type": "execute_result"
    }
   ],
   "source": [
    "repeat_patients.sum()\n",
    "#DM_repeat_patients.head()"
   ]
  },
  {
   "cell_type": "code",
   "execution_count": 263,
   "id": "c3129287",
   "metadata": {},
   "outputs": [
    {
     "data": {
      "text/html": [
       "<div>\n",
       "<style scoped>\n",
       "    .dataframe tbody tr th:only-of-type {\n",
       "        vertical-align: middle;\n",
       "    }\n",
       "\n",
       "    .dataframe tbody tr th {\n",
       "        vertical-align: top;\n",
       "    }\n",
       "\n",
       "    .dataframe thead th {\n",
       "        text-align: right;\n",
       "    }\n",
       "</style>\n",
       "<table border=\"1\" class=\"dataframe\">\n",
       "  <thead>\n",
       "    <tr style=\"text-align: right;\">\n",
       "      <th></th>\n",
       "      <th>encounter_id</th>\n",
       "      <th>patient_nbr</th>\n",
       "      <th>race</th>\n",
       "    </tr>\n",
       "  </thead>\n",
       "  <tbody>\n",
       "    <tr>\n",
       "      <th>1</th>\n",
       "      <td>149190</td>\n",
       "      <td>55629189</td>\n",
       "      <td>Caucasian</td>\n",
       "    </tr>\n",
       "    <tr>\n",
       "      <th>2</th>\n",
       "      <td>64410</td>\n",
       "      <td>86047875</td>\n",
       "      <td>AfricanAmerican</td>\n",
       "    </tr>\n",
       "    <tr>\n",
       "      <th>3</th>\n",
       "      <td>500364</td>\n",
       "      <td>82442376</td>\n",
       "      <td>Caucasian</td>\n",
       "    </tr>\n",
       "    <tr>\n",
       "      <th>4</th>\n",
       "      <td>16680</td>\n",
       "      <td>42519267</td>\n",
       "      <td>Caucasian</td>\n",
       "    </tr>\n",
       "    <tr>\n",
       "      <th>5</th>\n",
       "      <td>35754</td>\n",
       "      <td>82637451</td>\n",
       "      <td>Caucasian</td>\n",
       "    </tr>\n",
       "  </tbody>\n",
       "</table>\n",
       "</div>"
      ],
      "text/plain": [
       "   encounter_id  patient_nbr             race\n",
       "1        149190     55629189        Caucasian\n",
       "2         64410     86047875  AfricanAmerican\n",
       "3        500364     82442376        Caucasian\n",
       "4         16680     42519267        Caucasian\n",
       "5         35754     82637451        Caucasian"
      ]
     },
     "execution_count": 263,
     "metadata": {},
     "output_type": "execute_result"
    }
   ],
   "source": [
    "DM_epr.head()  "
   ]
  },
  {
   "cell_type": "code",
   "execution_count": 264,
   "id": "16c8f87f",
   "metadata": {},
   "outputs": [
    {
     "data": {
      "text/html": [
       "<div>\n",
       "<style scoped>\n",
       "    .dataframe tbody tr th:only-of-type {\n",
       "        vertical-align: middle;\n",
       "    }\n",
       "\n",
       "    .dataframe tbody tr th {\n",
       "        vertical-align: top;\n",
       "    }\n",
       "\n",
       "    .dataframe thead th {\n",
       "        text-align: right;\n",
       "    }\n",
       "</style>\n",
       "<table border=\"1\" class=\"dataframe\">\n",
       "  <thead>\n",
       "    <tr style=\"text-align: right;\">\n",
       "      <th></th>\n",
       "      <th>encounter_id</th>\n",
       "      <th>patient_nbr</th>\n",
       "      <th>race</th>\n",
       "    </tr>\n",
       "  </thead>\n",
       "  <tbody>\n",
       "    <tr>\n",
       "      <th>12</th>\n",
       "      <td>40926</td>\n",
       "      <td>85504905</td>\n",
       "      <td>Caucasian</td>\n",
       "    </tr>\n",
       "    <tr>\n",
       "      <th>27</th>\n",
       "      <td>248916</td>\n",
       "      <td>115196778</td>\n",
       "      <td>Caucasian</td>\n",
       "    </tr>\n",
       "    <tr>\n",
       "      <th>28</th>\n",
       "      <td>250872</td>\n",
       "      <td>41606064</td>\n",
       "      <td>Caucasian</td>\n",
       "    </tr>\n",
       "    <tr>\n",
       "      <th>32</th>\n",
       "      <td>260166</td>\n",
       "      <td>80845353</td>\n",
       "      <td>Caucasian</td>\n",
       "    </tr>\n",
       "    <tr>\n",
       "      <th>33</th>\n",
       "      <td>293058</td>\n",
       "      <td>114715242</td>\n",
       "      <td>Caucasian</td>\n",
       "    </tr>\n",
       "  </tbody>\n",
       "</table>\n",
       "</div>"
      ],
      "text/plain": [
       "    encounter_id  patient_nbr       race\n",
       "12         40926     85504905  Caucasian\n",
       "27        248916    115196778  Caucasian\n",
       "28        250872     41606064  Caucasian\n",
       "32        260166     80845353  Caucasian\n",
       "33        293058    114715242  Caucasian"
      ]
     },
     "execution_count": 264,
     "metadata": {},
     "output_type": "execute_result"
    }
   ],
   "source": [
    "repeat_p = DM_epr[DM_epr['patient_nbr'].isin(repeat_patients.index)]\n",
    "repeat_p.head()"
   ]
  },
  {
   "cell_type": "code",
   "execution_count": 265,
   "id": "82430fb1",
   "metadata": {},
   "outputs": [
    {
     "data": {
      "image/png": "[encoded data removed]",
      "text/plain": [
       "<Figure size 360x360 with 1 Axes>"
      ]
     },
     "metadata": {
      "needs_background": "light"
     },
     "output_type": "display_data"
    }
   ],
   "source": [
    "races = ['Caucasian', 'AfricanAmerican', 'Hispanic', 'Other','Asian']\n",
    "g = sns.catplot(x='race', kind='count', data=repeat_p, order=races)\n",
    "g.fig.suptitle('Multiple-visit patients across races')\n",
    "plt.xticks(rotation=60)\n",
    "\n",
    "plt.show()"
   ]
  },
  {
   "cell_type": "code",
   "execution_count": 266,
   "id": "365a8968",
   "metadata": {},
   "outputs": [
    {
     "data": {
      "text/plain": [
       "NO     52338\n",
       ">30    34649\n",
       "<30    11066\n",
       "Name: readmitted, dtype: int64"
      ]
     },
     "execution_count": 266,
     "metadata": {},
     "output_type": "execute_result"
    }
   ],
   "source": [
    "DM['readmitted'].value_counts()"
   ]
  },
  {
   "cell_type": "code",
   "execution_count": 267,
   "id": "6c8c55b0",
   "metadata": {},
   "outputs": [
    {
     "name": "stderr",
     "output_type": "stream",
     "text": [
      "C:\\Users\\14322\\AppData\\Local\\Temp/ipykernel_3804/195267735.py:1: SettingWithCopyWarning: \n",
      "A value is trying to be set on a copy of a slice from a DataFrame.\n",
      "Try using .loc[row_indexer,col_indexer] = value instead\n",
      "\n",
      "See the caveats in the documentation: https://pandas.pydata.org/pandas-docs/stable/user_guide/indexing.html#returning-a-view-versus-a-copy\n",
      "  DM['readmitted'] = DM['readmitted'].replace(regex={r'.\\d\\d':'Yes', 'NO':'No'})\n"
     ]
    }
   ],
   "source": [
    "DM['readmitted'] = DM['readmitted'].replace(regex={r'.\\d\\d':'Yes', 'NO':'No'})"
   ]
  },
  {
   "cell_type": "code",
   "execution_count": 268,
   "id": "62bf9d7b",
   "metadata": {},
   "outputs": [
    {
     "data": {
      "text/html": [
       "<div>\n",
       "<style scoped>\n",
       "    .dataframe tbody tr th:only-of-type {\n",
       "        vertical-align: middle;\n",
       "    }\n",
       "\n",
       "    .dataframe tbody tr th {\n",
       "        vertical-align: top;\n",
       "    }\n",
       "\n",
       "    .dataframe thead th {\n",
       "        text-align: right;\n",
       "    }\n",
       "</style>\n",
       "<table border=\"1\" class=\"dataframe\">\n",
       "  <thead>\n",
       "    <tr style=\"text-align: right;\">\n",
       "      <th></th>\n",
       "      <th>encounter_id</th>\n",
       "      <th>patient_nbr</th>\n",
       "      <th>race</th>\n",
       "      <th>gender</th>\n",
       "      <th>age</th>\n",
       "      <th>admission_type_id</th>\n",
       "      <th>discharge_disposition_id</th>\n",
       "      <th>admission_source_id</th>\n",
       "      <th>time_in_hospital</th>\n",
       "      <th>num_lab_procedures</th>\n",
       "      <th>num_procedures</th>\n",
       "      <th>num_medications</th>\n",
       "      <th>number_outpatient</th>\n",
       "      <th>number_emergency</th>\n",
       "      <th>number_inpatient</th>\n",
       "      <th>diag_1</th>\n",
       "      <th>diag_2</th>\n",
       "      <th>diag_3</th>\n",
       "      <th>number_diagnoses</th>\n",
       "      <th>max_glu_serum</th>\n",
       "      <th>A1Cresult</th>\n",
       "      <th>metformin</th>\n",
       "      <th>repaglinide</th>\n",
       "      <th>nateglinide</th>\n",
       "      <th>chlorpropamide</th>\n",
       "      <th>glimepiride</th>\n",
       "      <th>acetohexamide</th>\n",
       "      <th>glipizide</th>\n",
       "      <th>glyburide</th>\n",
       "      <th>tolbutamide</th>\n",
       "      <th>pioglitazone</th>\n",
       "      <th>rosiglitazone</th>\n",
       "      <th>acarbose</th>\n",
       "      <th>miglitol</th>\n",
       "      <th>troglitazone</th>\n",
       "      <th>tolazamide</th>\n",
       "      <th>insulin</th>\n",
       "      <th>glyburide-metformin</th>\n",
       "      <th>glipizide-metformin</th>\n",
       "      <th>glimepiride-pioglitazone</th>\n",
       "      <th>metformin-pioglitazone</th>\n",
       "      <th>change</th>\n",
       "      <th>diabetesMed</th>\n",
       "      <th>readmitted</th>\n",
       "    </tr>\n",
       "  </thead>\n",
       "  <tbody>\n",
       "    <tr>\n",
       "      <th>1</th>\n",
       "      <td>149190</td>\n",
       "      <td>55629189</td>\n",
       "      <td>Caucasian</td>\n",
       "      <td>Female</td>\n",
       "      <td>10-20</td>\n",
       "      <td>1</td>\n",
       "      <td>1</td>\n",
       "      <td>7</td>\n",
       "      <td>3</td>\n",
       "      <td>59</td>\n",
       "      <td>0</td>\n",
       "      <td>18</td>\n",
       "      <td>0</td>\n",
       "      <td>0</td>\n",
       "      <td>0</td>\n",
       "      <td>276</td>\n",
       "      <td>250.01</td>\n",
       "      <td>255</td>\n",
       "      <td>9</td>\n",
       "      <td>None</td>\n",
       "      <td>None</td>\n",
       "      <td>No</td>\n",
       "      <td>No</td>\n",
       "      <td>No</td>\n",
       "      <td>No</td>\n",
       "      <td>No</td>\n",
       "      <td>No</td>\n",
       "      <td>No</td>\n",
       "      <td>No</td>\n",
       "      <td>No</td>\n",
       "      <td>No</td>\n",
       "      <td>No</td>\n",
       "      <td>No</td>\n",
       "      <td>No</td>\n",
       "      <td>No</td>\n",
       "      <td>No</td>\n",
       "      <td>Up</td>\n",
       "      <td>No</td>\n",
       "      <td>No</td>\n",
       "      <td>No</td>\n",
       "      <td>No</td>\n",
       "      <td>Ch</td>\n",
       "      <td>Yes</td>\n",
       "      <td>Yes</td>\n",
       "    </tr>\n",
       "    <tr>\n",
       "      <th>2</th>\n",
       "      <td>64410</td>\n",
       "      <td>86047875</td>\n",
       "      <td>AfricanAmerican</td>\n",
       "      <td>Female</td>\n",
       "      <td>20-30</td>\n",
       "      <td>1</td>\n",
       "      <td>1</td>\n",
       "      <td>7</td>\n",
       "      <td>2</td>\n",
       "      <td>11</td>\n",
       "      <td>5</td>\n",
       "      <td>13</td>\n",
       "      <td>2</td>\n",
       "      <td>0</td>\n",
       "      <td>1</td>\n",
       "      <td>648</td>\n",
       "      <td>250</td>\n",
       "      <td>V27</td>\n",
       "      <td>6</td>\n",
       "      <td>None</td>\n",
       "      <td>None</td>\n",
       "      <td>No</td>\n",
       "      <td>No</td>\n",
       "      <td>No</td>\n",
       "      <td>No</td>\n",
       "      <td>No</td>\n",
       "      <td>No</td>\n",
       "      <td>Steady</td>\n",
       "      <td>No</td>\n",
       "      <td>No</td>\n",
       "      <td>No</td>\n",
       "      <td>No</td>\n",
       "      <td>No</td>\n",
       "      <td>No</td>\n",
       "      <td>No</td>\n",
       "      <td>No</td>\n",
       "      <td>No</td>\n",
       "      <td>No</td>\n",
       "      <td>No</td>\n",
       "      <td>No</td>\n",
       "      <td>No</td>\n",
       "      <td>No</td>\n",
       "      <td>Yes</td>\n",
       "      <td>No</td>\n",
       "    </tr>\n",
       "    <tr>\n",
       "      <th>3</th>\n",
       "      <td>500364</td>\n",
       "      <td>82442376</td>\n",
       "      <td>Caucasian</td>\n",
       "      <td>Male</td>\n",
       "      <td>30-40</td>\n",
       "      <td>1</td>\n",
       "      <td>1</td>\n",
       "      <td>7</td>\n",
       "      <td>2</td>\n",
       "      <td>44</td>\n",
       "      <td>1</td>\n",
       "      <td>16</td>\n",
       "      <td>0</td>\n",
       "      <td>0</td>\n",
       "      <td>0</td>\n",
       "      <td>8</td>\n",
       "      <td>250.43</td>\n",
       "      <td>403</td>\n",
       "      <td>7</td>\n",
       "      <td>None</td>\n",
       "      <td>None</td>\n",
       "      <td>No</td>\n",
       "      <td>No</td>\n",
       "      <td>No</td>\n",
       "      <td>No</td>\n",
       "      <td>No</td>\n",
       "      <td>No</td>\n",
       "      <td>No</td>\n",
       "      <td>No</td>\n",
       "      <td>No</td>\n",
       "      <td>No</td>\n",
       "      <td>No</td>\n",
       "      <td>No</td>\n",
       "      <td>No</td>\n",
       "      <td>No</td>\n",
       "      <td>No</td>\n",
       "      <td>Up</td>\n",
       "      <td>No</td>\n",
       "      <td>No</td>\n",
       "      <td>No</td>\n",
       "      <td>No</td>\n",
       "      <td>Ch</td>\n",
       "      <td>Yes</td>\n",
       "      <td>No</td>\n",
       "    </tr>\n",
       "    <tr>\n",
       "      <th>4</th>\n",
       "      <td>16680</td>\n",
       "      <td>42519267</td>\n",
       "      <td>Caucasian</td>\n",
       "      <td>Male</td>\n",
       "      <td>40-50</td>\n",
       "      <td>1</td>\n",
       "      <td>1</td>\n",
       "      <td>7</td>\n",
       "      <td>1</td>\n",
       "      <td>51</td>\n",
       "      <td>0</td>\n",
       "      <td>8</td>\n",
       "      <td>0</td>\n",
       "      <td>0</td>\n",
       "      <td>0</td>\n",
       "      <td>197</td>\n",
       "      <td>157</td>\n",
       "      <td>250</td>\n",
       "      <td>5</td>\n",
       "      <td>None</td>\n",
       "      <td>None</td>\n",
       "      <td>No</td>\n",
       "      <td>No</td>\n",
       "      <td>No</td>\n",
       "      <td>No</td>\n",
       "      <td>No</td>\n",
       "      <td>No</td>\n",
       "      <td>Steady</td>\n",
       "      <td>No</td>\n",
       "      <td>No</td>\n",
       "      <td>No</td>\n",
       "      <td>No</td>\n",
       "      <td>No</td>\n",
       "      <td>No</td>\n",
       "      <td>No</td>\n",
       "      <td>No</td>\n",
       "      <td>Steady</td>\n",
       "      <td>No</td>\n",
       "      <td>No</td>\n",
       "      <td>No</td>\n",
       "      <td>No</td>\n",
       "      <td>Ch</td>\n",
       "      <td>Yes</td>\n",
       "      <td>No</td>\n",
       "    </tr>\n",
       "    <tr>\n",
       "      <th>5</th>\n",
       "      <td>35754</td>\n",
       "      <td>82637451</td>\n",
       "      <td>Caucasian</td>\n",
       "      <td>Male</td>\n",
       "      <td>50-60</td>\n",
       "      <td>2</td>\n",
       "      <td>1</td>\n",
       "      <td>2</td>\n",
       "      <td>3</td>\n",
       "      <td>31</td>\n",
       "      <td>6</td>\n",
       "      <td>16</td>\n",
       "      <td>0</td>\n",
       "      <td>0</td>\n",
       "      <td>0</td>\n",
       "      <td>414</td>\n",
       "      <td>411</td>\n",
       "      <td>250</td>\n",
       "      <td>9</td>\n",
       "      <td>None</td>\n",
       "      <td>None</td>\n",
       "      <td>No</td>\n",
       "      <td>No</td>\n",
       "      <td>No</td>\n",
       "      <td>No</td>\n",
       "      <td>No</td>\n",
       "      <td>No</td>\n",
       "      <td>No</td>\n",
       "      <td>No</td>\n",
       "      <td>No</td>\n",
       "      <td>No</td>\n",
       "      <td>No</td>\n",
       "      <td>No</td>\n",
       "      <td>No</td>\n",
       "      <td>No</td>\n",
       "      <td>No</td>\n",
       "      <td>Steady</td>\n",
       "      <td>No</td>\n",
       "      <td>No</td>\n",
       "      <td>No</td>\n",
       "      <td>No</td>\n",
       "      <td>No</td>\n",
       "      <td>Yes</td>\n",
       "      <td>Yes</td>\n",
       "    </tr>\n",
       "  </tbody>\n",
       "</table>\n",
       "</div>"
      ],
      "text/plain": [
       "   encounter_id  patient_nbr             race  gender    age  \\\n",
       "1        149190     55629189        Caucasian  Female  10-20   \n",
       "2         64410     86047875  AfricanAmerican  Female  20-30   \n",
       "3        500364     82442376        Caucasian    Male  30-40   \n",
       "4         16680     42519267        Caucasian    Male  40-50   \n",
       "5         35754     82637451        Caucasian    Male  50-60   \n",
       "\n",
       "   admission_type_id  discharge_disposition_id  admission_source_id  \\\n",
       "1                  1                         1                    7   \n",
       "2                  1                         1                    7   \n",
       "3                  1                         1                    7   \n",
       "4                  1                         1                    7   \n",
       "5                  2                         1                    2   \n",
       "\n",
       "   time_in_hospital  num_lab_procedures  num_procedures  num_medications  \\\n",
       "1                 3                  59               0               18   \n",
       "2                 2                  11               5               13   \n",
       "3                 2                  44               1               16   \n",
       "4                 1                  51               0                8   \n",
       "5                 3                  31               6               16   \n",
       "\n",
       "   number_outpatient  number_emergency  number_inpatient diag_1  diag_2  \\\n",
       "1                  0                 0                 0    276  250.01   \n",
       "2                  2                 0                 1    648     250   \n",
       "3                  0                 0                 0      8  250.43   \n",
       "4                  0                 0                 0    197     157   \n",
       "5                  0                 0                 0    414     411   \n",
       "\n",
       "  diag_3  number_diagnoses max_glu_serum A1Cresult metformin repaglinide  \\\n",
       "1    255                 9          None      None        No          No   \n",
       "2    V27                 6          None      None        No          No   \n",
       "3    403                 7          None      None        No          No   \n",
       "4    250                 5          None      None        No          No   \n",
       "5    250                 9          None      None        No          No   \n",
       "\n",
       "  nateglinide chlorpropamide glimepiride acetohexamide glipizide glyburide  \\\n",
       "1          No             No          No            No        No        No   \n",
       "2          No             No          No            No    Steady        No   \n",
       "3          No             No          No            No        No        No   \n",
       "4          No             No          No            No    Steady        No   \n",
       "5          No             No          No            No        No        No   \n",
       "\n",
       "  tolbutamide pioglitazone rosiglitazone acarbose miglitol troglitazone  \\\n",
       "1          No           No            No       No       No           No   \n",
       "2          No           No            No       No       No           No   \n",
       "3          No           No            No       No       No           No   \n",
       "4          No           No            No       No       No           No   \n",
       "5          No           No            No       No       No           No   \n",
       "\n",
       "  tolazamide insulin glyburide-metformin glipizide-metformin  \\\n",
       "1         No      Up                  No                  No   \n",
       "2         No      No                  No                  No   \n",
       "3         No      Up                  No                  No   \n",
       "4         No  Steady                  No                  No   \n",
       "5         No  Steady                  No                  No   \n",
       "\n",
       "  glimepiride-pioglitazone metformin-pioglitazone change diabetesMed  \\\n",
       "1                       No                     No     Ch         Yes   \n",
       "2                       No                     No     No         Yes   \n",
       "3                       No                     No     Ch         Yes   \n",
       "4                       No                     No     Ch         Yes   \n",
       "5                       No                     No     No         Yes   \n",
       "\n",
       "  readmitted  \n",
       "1        Yes  \n",
       "2         No  \n",
       "3         No  \n",
       "4         No  \n",
       "5        Yes  "
      ]
     },
     "execution_count": 268,
     "metadata": {},
     "output_type": "execute_result"
    }
   ],
   "source": [
    "DM.head(5)"
   ]
  },
  {
   "cell_type": "code",
   "execution_count": 272,
   "id": "33722457",
   "metadata": {},
   "outputs": [
    {
     "data": {
      "text/plain": [
       "Yes    75351\n",
       "No     22702\n",
       "Name: diabetesMed, dtype: int64"
      ]
     },
     "execution_count": 272,
     "metadata": {},
     "output_type": "execute_result"
    }
   ],
   "source": [
    "DM['diabetesMed'].value_counts()"
   ]
  },
  {
   "cell_type": "code",
   "execution_count": 274,
   "id": "6337bd0a",
   "metadata": {},
   "outputs": [
    {
     "data": {
      "text/plain": [
       "No     52338\n",
       "Yes    45715\n",
       "Name: readmitted, dtype: int64"
      ]
     },
     "execution_count": 274,
     "metadata": {},
     "output_type": "execute_result"
    }
   ],
   "source": [
    "DM['readmitted'].value_counts()"
   ]
  },
  {
   "cell_type": "code",
   "execution_count": 270,
   "id": "07b481a1",
   "metadata": {},
   "outputs": [],
   "source": [
    "#Here we see that in the 22702 encounters, no diabetic medications were adminstered. We were already able to see \n",
    "#this earlier. This column along with \"change\" column is just information repetition, which may not help our \n",
    "#prediction model."
   ]
  },
  {
   "cell_type": "code",
   "execution_count": 279,
   "id": "0714c5b2",
   "metadata": {},
   "outputs": [
    {
     "data": {
      "image/png": "[encoded data removed]",
      "text/plain": [
       "<Figure size 432x288 with 1 Axes>"
      ]
     },
     "metadata": {
      "needs_background": "light"
     },
     "output_type": "display_data"
    }
   ],
   "source": [
    "g = sns.countplot(x= 'diabetesMed', data= DM, hue= 'readmitted')\n",
    "for cont in g.containers:\n",
    "    g.bar_label(cont)"
   ]
  },
  {
   "cell_type": "code",
   "execution_count": 280,
   "id": "39031cdb",
   "metadata": {},
   "outputs": [],
   "source": [
    "#In the encounters with patients with medication, ~48% of those were readmitted in less or greater than 30 days.\n",
    "#Whereas in the encounters with patients with no medication, ~41% were readmitted in less or greater than 30 days."
   ]
  },
  {
   "cell_type": "code",
   "execution_count": null,
   "id": "e4b5486c",
   "metadata": {},
   "outputs": [],
   "source": []
  }
 ],
 "metadata": {
  "kernelspec": {
   "display_name": "Python 3 (ipykernel)",
   "language": "python",
   "name": "python3"
  },
  "language_info": {
   "codemirror_mode": {
    "name": "ipython",
    "version": 3
   },
   "file_extension": ".py",
   "mimetype": "text/x-python",
   "name": "python",
   "nbconvert_exporter": "python",
   "pygments_lexer": "ipython3",
   "version": "3.8.12"
  }
 },
 "nbformat": 4,
 "nbformat_minor": 5
}
